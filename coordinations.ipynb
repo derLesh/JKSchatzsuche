{
 "cells": [
  {
   "cell_type": "markdown",
   "metadata": {},
   "source": [
    " # Google Maps URL Generator\n",
    "\n",
    " Mit diesem Notebook werden mögliche Koordinaten für die Schatzsuche generiert.\n",
    " Der Rahmen liegt bei ganz Deutschland."
   ]
  },
  {
   "cell_type": "code",
   "execution_count": null,
   "metadata": {},
   "outputs": [],
   "source": [
    "# Importieren der notwendigen Bibliotheken\n",
    "import itertools\n",
    "import folium\n",
    "import geopandas as gpd\n",
    "from shapely.geometry import MultiPoint\n",
    "import os"
   ]
  },
  {
   "cell_type": "code",
   "execution_count": null,
   "metadata": {},
   "outputs": [],
   "source": [
    "# Funktion zur Erzeugung von Google Maps URLs\n",
    "def generate_urls(breitengrad_pattern, laengengrad_pattern, breiten_range, laengen_range):\n",
    "    urls = []\n",
    "    points = []\n",
    "\n",
    "    # Entferne Leerzeichen aus den Mustern\n",
    "    breitengrad_pattern = breitengrad_pattern.replace(\" \", \"\")\n",
    "    laengengrad_pattern = laengengrad_pattern.replace(\" \", \"\")\n",
    "\n",
    "    # Ersetze Unterstriche mit Platzhalter für Ziffern\n",
    "    breitengrad_pattern = breitengrad_pattern.replace(\"_\", \"{}\")\n",
    "    laengengrad_pattern = laengengrad_pattern.replace(\"_\", \"{}\")\n",
    "    \n",
    "    # Generiere alle möglichen Zahlen für die Platzhalter\n",
    "    breiten_digits = itertools.product(range(10), repeat=breitengrad_pattern.count(\"{}\"))\n",
    "    laengen_digits = list(itertools.product(range(10), repeat=laengengrad_pattern.count(\"{}\")))\n",
    "    \n",
    "    # Erstelle alle möglichen Koordinaten innerhalb des vorgegebenen Rahmens\n",
    "    for breiten_digit in breiten_digits:\n",
    "        for laengen_digit in laengen_digits:\n",
    "            breitengrad = float(breitengrad_pattern.format(*breiten_digit))\n",
    "            laengengrad = float(laengengrad_pattern.format(*laengen_digit))\n",
    "            if breiten_range[0] <= breitengrad <= breiten_range[1] and laengen_range[0] <= laengengrad <= laengen_range[1]:\n",
    "                urls.append(f\"https://www.google.com/maps?q={breitengrad},{laengengrad}\")\n",
    "                points.append((breitengrad, laengengrad))\n",
    "\n",
    "    # Erstelle ein MultiPoint-Objekt aus den Punkten\n",
    "    multi_point = MultiPoint(points)\n",
    "    # Erstelle ein GeoSeries-Objekt und berechne den Centroid\n",
    "    centroid = gpd.GeoSeries([multi_point]).centroid.iloc[0]\n",
    "    \n",
    "    # Erstellen der Folium-Karte zentriert auf den Centroid\n",
    "    m = folium.Map(location=[51.1657, 10.4515], zoom_start=6)  # Zentriert auf Deutschland\n",
    "\n",
    "    # Füge jeden Punkt als Marker zur Karte hinzu\n",
    "    for point in points:\n",
    "        folium.Marker([point[0], point[1]]).add_to(m)\n",
    "\n",
    "    # Karte anzeigen\n",
    "    m.save(\"index.html\")\n",
    "\n",
    "    return urls"
   ]
  },
  {
   "cell_type": "code",
   "execution_count": null,
   "metadata": {},
   "outputs": [],
   "source": [
    "# Eingabeaufforderung für den Benutzer\n",
    "breitengrad_pattern = os.getenv('BREITENGRAD_PATTERN')\n",
    "if not breitengrad_pattern:\n",
    "    breitengrad_pattern = input(\"Bitte geben Sie das Muster für den Breitengrad ein (z.B. '50._7_6_'): \")\n",
    "\n",
    "laengengrad_pattern = os.getenv('LAENGENGRAD_PATTERN')\n",
    "if not laengengrad_pattern:\n",
    "    laengengrad_pattern = input(\"Bitte geben Sie das Muster für den Längengrad ein (z.B. '12.4_2__'): \")\n"
   ]
  },
  {
   "cell_type": "code",
   "execution_count": null,
   "metadata": {},
   "outputs": [],
   "source": [
    "# Definieren des Bereichs für Koordinaten in Deutschland\n",
    "breiten_range = (47.00000, 55.99999)\n",
    "laengen_range = (6.00000, 15.99999)"
   ]
  },
  {
   "cell_type": "code",
   "execution_count": null,
   "metadata": {},
   "outputs": [],
   "source": [
    "# Generierung und Ausgabe der URLs\n",
    "urls = generate_urls(breitengrad_pattern, laengengrad_pattern, breiten_range, laengen_range)\n",
    "print(f\"\\nEs wurden {len(urls)} URLs generiert:\\n\")\n",
    "for url in urls:\n",
    "    print(url)"
   ]
  }
 ],
 "metadata": {
  "kernelspec": {
   "display_name": "Python 3",
   "language": "python",
   "name": "python3"
  },
  "language_info": {
   "codemirror_mode": {
    "name": "ipython",
    "version": 3
   },
   "file_extension": ".py",
   "mimetype": "text/x-python",
   "name": "python",
   "nbconvert_exporter": "python",
   "pygments_lexer": "ipython3",
   "version": "3.11.4"
  },
  "orig_nbformat": 4
 },
 "nbformat": 4,
 "nbformat_minor": 2
}
